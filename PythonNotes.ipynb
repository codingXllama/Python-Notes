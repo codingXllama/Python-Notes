#%%

try:
    num1=1
    num2=0
    print(num1/num2)
except ZeroDivisionError:
    print("You cannot divide by 0")
    
#%%

#Using multiple Except expressions
try:
    myVar=10
    print(myVar+"hello")
    print(myVar/2)
except ZeroDivisionError:
    print("You cannot divide by 0")
except(ValueError,TypeError):
    print("Error Occured")
#%%
'''
using the finally statement
placed at the bottom of the try/except statement
run after execution of the code in the try,and 
sometimes in the except block if needed
'''

#example 1 will hit the except block
try:
    print("In try block")
    print(1/0)
except ZeroDivisionError:
    print("Cannot divide by 0")
finally:
    print("I will run no matter what the condition is")

'''
example 2- will not hit the except block,
because there is no need to
'''
try:
    print(10/2)
except:
    print(5/2)
finally:
    print(1/1)



#%%
'''
You can raise exceptions by using the raise statement
'''
#ex1
print("my name is sam")
userInput=input("What is my name?")
if userInput.lower()!="sam":
    print("wow you don't know me")
    raise ValueError
else:
    print("Ok good you know my name!")

#%%
#trying to open a text file and read it by using "r"
myfile=open("hello.txt","r")
#reading the file by using the fileNameVar.read() method
print(myfile.read())
#%%
#Opening FIles
'''
1.use "r" if you want to open file in read mode, which is the default
2.use "w" if you want to write to the file,
which is used for rewriting the contents of a file
3.use "a" if you want to append to a file, meaning you will want to add new content to the END of the file

Here are some examples:
'''

#write mode
open("hello.txt","w")

#read mode
open("hello.txt","r")

#binary write mode
#this mode is used for non-text files such as images and sound files
open("hello.txt","wb")

'''
Note: You can use the + sign with each of the
modes above to give them extra access to files.
For example => "r+" open the files for both reading and writing
'''

#%%
'''
Close Method 

Once a file is opened you should close it,
by using the close method of the file object.

Example 
'''
myFIle=open("hello.txt","w")
#closing the file
myFIle.close()

#%%
'''
Reading Files
==> to read a file we use the read() method on the file object

example:

'''
myfile=open("hello.txt","r")
myFileContent=myfile.read()
print(myFileContent)
#don't forget to close the file once you open it
myfile.close()
#%%

myNewFile=open("hello.txt","r")
#this will read 16 bytes (chars) even the spaces
print(myNewFile.read(16))
#this will read 4 bytes characters even the spaces after reading the 16 bytes
print(myNewFile.read(4))




#%%
#Reading the file and outputting string length
myNewFile=open("hello.txt","r")
fileLength=myNewFile.read()
print(len(fileLength))
myNewFile.close()

#%%
#Reading file lines using the .readlines() method on the file object

file=open("hello.txt","r")
print(file.readlines())
file.close()
#%%
#Using a fro loop to iterate through the lines in the file
myFile=open("hello.txt","r")
lineNumber=0
for line in myFile:
    print("The line number is:",lineNumber,"with the value of:",line)
    lineNumber+=1
#don't forget to close file after done using it
myFile.close()

#%%
#Using the None Keyword
myList=[]
if myList is None :
    print("is EMpty")
    
#%%
age=int(input("ENter age: "))
name=input("Enter name: ")
newFile=open("UserFile.txt","w")
print(newFile.write(name),"\t",end=" ")
print(newFile.write(str(age)),end=" ")

newFile.close()
#reading the file
newFile=open("UserFile.txt","r")
print(newFile.readlines(),end=" ")

#%%

